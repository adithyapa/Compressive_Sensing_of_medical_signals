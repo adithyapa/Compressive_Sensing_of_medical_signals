{
  "nbformat": 4,
  "nbformat_minor": 0,
  "metadata": {
    "colab": {
      "name": "EcgCS.ipynb",
      "version": "0.3.2",
      "provenance": []
    },
    "kernelspec": {
      "name": "python3",
      "display_name": "Python 3"
    }
  },
  "cells": [
    {
      "metadata": {
        "id": "noILv0zUXLtp",
        "colab_type": "code",
        "colab": {}
      },
      "cell_type": "code",
      "source": [
        "import numpy as np\n",
        "import pandas as pd\n",
        "import matplotlib.pyplot as plt\n",
        "from sklearn.linear_model import Lasso\n",
        "from scipy.fftpack import dct,idct"
      ],
      "execution_count": 0,
      "outputs": []
    },
    {
      "metadata": {
        "id": "ANis35iOXQHT",
        "colab_type": "code",
        "colab": {}
      },
      "cell_type": "code",
      "source": [
        "data = pd.read_csv('samples.csv',skiprows=[1])\n"
      ],
      "execution_count": 0,
      "outputs": []
    },
    {
      "metadata": {
        "id": "8DTBrqxwXSZ7",
        "colab_type": "code",
        "colab": {}
      },
      "cell_type": "code",
      "source": [
        "# Extracting the seperate column values\n",
        "\n",
        "x = data[\"'Elapsed time'\"]\n",
        "x = x.values\n",
        "y = data[\"'V5'\"]\n",
        "y = y.values\n",
        "\n",
        "y_dct = dct(y,norm='ortho')               #dct matrix of the signal\n",
        "plt.subplot(211)\n",
        "plt.plot(x,y)\n",
        "plt.xlabel('Samples')\n",
        "plt.ylabel('Amplitude')\n",
        "plt.title('Original Signal')\n",
        "plt.subplot(212)\n",
        "plt.plot(np.linspace(0,1000,1000),y_dct[0:1000])\n",
        "plt.show()\n"
      ],
      "execution_count": 0,
      "outputs": []
    },
    {
      "metadata": {
        "id": "YV-2AGR2XX0E",
        "colab_type": "code",
        "colab": {}
      },
      "cell_type": "code",
      "source": [
        "# sparse matrix\n",
        "\n",
        "sparsity = 0.4\n",
        "m = int(sparsity*len(x))\n",
        "\n",
        "ri = np.random.choice(3600, m, replace=False)     #random samples of indices\n",
        "ri.sort()\n",
        "xc = x[ri]\n",
        "yc = y[ri]\n",
        "yc_dft = dct(yc,norm='ortho')\n",
        "plt.subplot(211)\n",
        "plt.plot(xc,yc)\n",
        "plt.subplot(212)\n",
        "plt.plot(np.linspace(0,1,m),yc_dft)\n",
        "plt.show()"
      ],
      "execution_count": 0,
      "outputs": []
    },
    {
      "metadata": {
        "id": "A2Xp6nmYXwhz",
        "colab_type": "text"
      },
      "cell_type": "markdown",
      "source": [
        " The reconstruction part is found to be faulty but it detects all the peaks in the ecg signal."
      ]
    },
    {
      "metadata": {
        "id": "uHia2eENXbwQ",
        "colab_type": "code",
        "colab": {}
      },
      "cell_type": "code",
      "source": [
        "# reconstruction of sparse ecg signal\n",
        "\n",
        "A = idct(np.identity(len(x)),norm='ortho',axis=0)\n",
        "A = A[ri]"
      ],
      "execution_count": 0,
      "outputs": []
    },
    {
      "metadata": {
        "id": "HMyi_ob4XgJP",
        "colab_type": "code",
        "colab": {}
      },
      "cell_type": "code",
      "source": [
        "L1_min = Lasso(alpha=0.0001,normalize=True,max_iter=1e5)\n",
        "for i in range(10):\n",
        "  L1_min.fit(A,yc)"
      ],
      "execution_count": 0,
      "outputs": []
    },
    {
      "metadata": {
        "id": "ssTS1oaPXjYN",
        "colab_type": "code",
        "colab": {}
      },
      "cell_type": "code",
      "source": [
        "#DCT of the reconstructed signal\n",
        "\n",
        "Rcon_dct = L1_min.coef_\n",
        "#Rcon_dct = np.squeeze(Rcon_dct)\n",
        "#Rcon_dct[200:(len(Rcon_dct)-1)] = 0\n",
        "Rcon_sig = idct(Rcon_dct, norm='ortho', axis=0)"
      ],
      "execution_count": 0,
      "outputs": []
    },
    {
      "metadata": {
        "id": "jM_4UnHVXqKg",
        "colab_type": "code",
        "colab": {}
      },
      "cell_type": "code",
      "source": [
        "plt.subplot(421)\n",
        "plt.plot(x,Rcon_sig)\n",
        "plt.title('Reconstructed signal')\n",
        "plt.subplot(422)\n",
        "plt.plot(np.linspace(0,1000,1000),Rcon_dct[0:1000])\n",
        "plt.title('Spectrum of reconstructed signal')\n",
        "plt.subplot(423)\n",
        "plt.plot(x,y)\n",
        "plt.title('Original Signal')\n",
        "plt.subplot(424)\n",
        "plt.plot(np.linspace(0,100,100),y_dct[0:100])\n",
        "plt.title('Spectrum of original signal')\n",
        "plt.show()\n",
        "print('Error=',np.mean(np.abs(y-Rcon_sig)))"
      ],
      "execution_count": 0,
      "outputs": []
    }
  ]
}